{
 "cells": [
  {
   "cell_type": "code",
   "execution_count": 1,
   "id": "b53cb0a0",
   "metadata": {},
   "outputs": [],
   "source": [
    "import torch\n",
    "import numpy as np\n",
    "import matplotlib.pyplot as plt\n",
    "import os.path\n",
    "\n",
    "from torch import nn\n",
    "from torch.utils.data import DataLoader, Subset\n",
    "from torchvision import datasets\n",
    "from torchvision.transforms import ToTensor, Lambda, Compose, Normalize\n",
    "\n",
    "from tqdm import tqdm\n",
    "\n",
    "import sys\n",
    "sys.path.append('../')\n",
    "\n",
    "from noise import AddGaussianNoise, AddLabelNoise"
   ]
  },
  {
   "cell_type": "code",
   "execution_count": 2,
   "id": "e262a742",
   "metadata": {},
   "outputs": [
    {
     "name": "stdout",
     "output_type": "stream",
     "text": [
      "Training dataset size:\n",
      "30000\n",
      "Test dataset size:\n",
      "10000\n",
      "Training dataset size:\n",
      "30000\n",
      "Test dataset size:\n",
      "10000\n",
      "Training dataset size:\n",
      "30000\n",
      "Test dataset size:\n",
      "10000\n",
      "Training dataset size:\n",
      "30000\n",
      "Test dataset size:\n",
      "10000\n",
      "Training dataset size:\n",
      "30000\n",
      "Test dataset size:\n",
      "10000\n"
     ]
    }
   ],
   "source": [
    "# Load dataset\n",
    "n_classes = 10\n",
    "\n",
    "#eta   = 0.0\n",
    "sigma = 0.0\n",
    "\n",
    "eta_all = [0.0, 0.2, 0.4, 0.6, 0.8]\n",
    "\n",
    "g = torch.Generator()\n",
    "g.manual_seed(2147483647)\n",
    "\n",
    "for eta in eta_all:\n",
    "\n",
    "    # Download training data from open datasets.\n",
    "    train_data = datasets.MNIST(\n",
    "        root = \"raw-data\",\n",
    "        train = True,\n",
    "        download = True,\n",
    "        transform = ToTensor(),\n",
    "        target_transform = AddLabelNoise(eta,n_classes)\n",
    "    )\n",
    "\n",
    "    # Download test data from open datasets.\n",
    "    test_data = datasets.MNIST(\n",
    "        root = \"raw-data\",\n",
    "        train = False,\n",
    "        download = True,\n",
    "        transform = ToTensor(),\n",
    "    )\n",
    "\n",
    "    # Subsample the first 30000 digits for training\n",
    "    train_data = Subset(train_data, torch.from_numpy(np.arange(30000)))\n",
    "\n",
    "    print(\"Training dataset size:\")\n",
    "    print(len(train_data))\n",
    "\n",
    "    print(\"Test dataset size:\")\n",
    "    print(len(test_data))\n",
    "    \n",
    "    # Create folder\n",
    "    if not os.path.exists('data-sub/'):\n",
    "        os.mkdir('data-sub/')\n",
    "\n",
    "    torch.save(train_data, 'data-sub/train_data-sigma{}_eta{}'.format(sigma,eta))\n",
    "    torch.save(test_data, 'data-sub/test_data-sigma{}_eta{}'.format(sigma,eta))"
   ]
  },
  {
   "cell_type": "code",
   "execution_count": 5,
   "id": "a87608a4",
   "metadata": {},
   "outputs": [
    {
     "data": {
      "image/png": "[encoded data removed]",
      "text/plain": [
       "<Figure size 576x576 with 5 Axes>"
      ]
     },
     "metadata": {
      "needs_background": "light"
     },
     "output_type": "display_data"
    }
   ],
   "source": [
    "# Visualise dataset\n",
    "\n",
    "figure = plt.figure(figsize=(8, 8))\n",
    "cols, rows = 5, 1\n",
    "for i in range(1, cols*rows+1):\n",
    "    \n",
    "    sample_idx = torch.randint(len(train_data), size=(1,)).item()\n",
    "    img, label = train_data[sample_idx]\n",
    "    figure.add_subplot(rows, cols, i)\n",
    "    \n",
    "    plt.title(\"label: {}\".format(label))\n",
    "    plt.axis(\"off\")\n",
    "    plt.imshow(img.squeeze(), cmap=\"gray\")\n",
    "    plt.tight_layout()    \n",
    "\n",
    "plt.show()"
   ]
  },
  {
   "cell_type": "code",
   "execution_count": 4,
   "id": "40f3b244",
   "metadata": {},
   "outputs": [
    {
     "name": "stdout",
     "output_type": "stream",
     "text": [
      "Shape of X [N, C, H, W]:  torch.Size([64, 1, 28, 28])\n",
      "Shape of y:  torch.Size([64]) torch.int64\n"
     ]
    }
   ],
   "source": [
    "# Create data loaders\n",
    "batch_size_train = 64\n",
    "batch_size_test  = 64\n",
    "\n",
    "train_dataloader = DataLoader(train_data, batch_size=batch_size_train, shuffle=True)\n",
    "test_dataloader  = DataLoader(test_data,     batch_size=batch_size_test,  shuffle=True)\n",
    "\n",
    "for X, y in test_dataloader:\n",
    "    print(\"Shape of X [N, C, H, W]: \", X.shape)\n",
    "    print(\"Shape of y: \", y.shape, y.dtype)\n",
    "    break"
   ]
  }
 ],
 "metadata": {
  "kernelspec": {
   "display_name": "Python 3 (ipykernel)",
   "language": "python",
   "name": "python3"
  },
  "language_info": {
   "codemirror_mode": {
    "name": "ipython",
    "version": 3
   },
   "file_extension": ".py",
   "mimetype": "text/x-python",
   "name": "python",
   "nbconvert_exporter": "python",
   "pygments_lexer": "ipython3",
   "version": "3.10.6"
  }
 },
 "nbformat": 4,
 "nbformat_minor": 5
}
