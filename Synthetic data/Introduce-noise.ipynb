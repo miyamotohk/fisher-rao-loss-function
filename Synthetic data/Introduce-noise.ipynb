{
 "cells": [
  {
   "cell_type": "code",
   "execution_count": 1,
   "id": "b3a0c428",
   "metadata": {},
   "outputs": [],
   "source": [
    "import numpy as np\n",
    "import matplotlib.pyplot as plt\n",
    "\n",
    "import torch\n",
    "from torch import nn\n",
    "from torch.utils.data import TensorDataset, DataLoader\n",
    "from torchvision import datasets\n",
    "from torchvision.transforms import ToTensor, Lambda, Compose, Normalize\n",
    "\n",
    "from sklearn.model_selection import train_test_split\n",
    "\n",
    "from tqdm import tqdm"
   ]
  },
  {
   "cell_type": "code",
   "execution_count": 2,
   "id": "049f54a5",
   "metadata": {},
   "outputs": [
    {
     "name": "stdout",
     "output_type": "stream",
     "text": [
      "Number of classes: 10\n"
     ]
    }
   ],
   "source": [
    "# Random labels (a number between 0 and 1)\n",
    "test_size = 0.2\n",
    "\n",
    "# 100 features\n",
    "# 10 classes\n",
    "\n",
    "X = np.load('data/synthetic-data.npy')\n",
    "y = np.load('data/synthetic-label.npy')\n",
    "\n",
    "n_classes = np.max(y)+1\n",
    "print(\"Number of classes: {}\".format(n_classes))\n",
    "\n",
    "X_train, X_test, y_train, y_test = train_test_split(X, y, test_size=test_size, random_state=42)"
   ]
  },
  {
   "cell_type": "code",
   "execution_count": 3,
   "id": "01098f7e",
   "metadata": {},
   "outputs": [],
   "source": [
    "# Uniform label noise\n",
    "def add_label_noise(y_train, eta=0.9):\n",
    "    # eta: probability of chaning the label\n",
    "\n",
    "    n_train = len(y_train)\n",
    "\n",
    "    # Binary vector indicating to change (1) or not (0)\n",
    "    flag_change  = np.random.binomial(size=n_train, p=eta, n=1)\n",
    "    # Vector of random integers from 1 to n_class-1\n",
    "    random_label = np.random.randint(1, n_classes, size=n_train)\n",
    "\n",
    "    return np.mod(y_train + flag_change*random_label, n_classes)"
   ]
  },
  {
   "cell_type": "code",
   "execution_count": 4,
   "id": "0a25e4f8",
   "metadata": {},
   "outputs": [],
   "source": [
    "eta_all = [0.0, 0.1, 0.2, 0.3, 0.4, 0.5, 0.6, 0.7, 0.8, 0.9]\n",
    "\n",
    "for eta in eta_all:\n",
    "\n",
    "    y_train = add_label_noise(y_train, eta)\n",
    "\n",
    "    np.save('data/Xtrain-eta{}-data.npy'.format(eta), X_train)\n",
    "    np.save('data/Xtest-eta{}-data.npy'.format(eta), X_test)\n",
    "\n",
    "    np.save('data/ytrain-eta{}-label.npy'.format(eta), y_train)\n",
    "    np.save('data/ytest-eta{}-label.npy'.format(eta), y_test)"
   ]
  },
  {
   "cell_type": "markdown",
   "id": "0cf67651",
   "metadata": {},
   "source": [
    "###### "
   ]
  }
 ],
 "metadata": {
  "kernelspec": {
   "display_name": "Python 3 (ipykernel)",
   "language": "python",
   "name": "python3"
  },
  "language_info": {
   "codemirror_mode": {
    "name": "ipython",
    "version": 3
   },
   "file_extension": ".py",
   "mimetype": "text/x-python",
   "name": "python",
   "nbconvert_exporter": "python",
   "pygments_lexer": "ipython3",
   "version": "3.10.6"
  }
 },
 "nbformat": 4,
 "nbformat_minor": 5
}
